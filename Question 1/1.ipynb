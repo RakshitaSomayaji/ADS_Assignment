{
 "cells": [
  {
   "cell_type": "markdown",
   "id": "d6dbed2f",
   "metadata": {},
   "source": [
    "1. i) Describe Named Entity Recognition. \n",
    "\n",
    "Named Entity Recognition (NER) is a natural language processing (NLP) task that involves identifying named entities within a text and classifying them into predefined categories such as names of persons, organizations, locations, dates, quantities, monetary values, and more. NER is crucial for various NLP applications such as information extraction, question answering, and sentiment analysis.\n"
   ]
  },
  {
   "cell_type": "markdown",
   "id": "e058006a",
   "metadata": {},
   "source": [
    "ii) Write a python code to recognize named entities in a document. The input should be a text file containing 200 - 300 words in it. The output should be written to another file. "
   ]
  },
  {
   "cell_type": "code",
   "execution_count": 5,
   "id": "59f4f5e4",
   "metadata": {},
   "outputs": [],
   "source": [
    "import spacy\n",
    "# Load the spaCy English language model\n",
    "nlp = spacy.load(\"en_core_web_sm\")\n"
   ]
  },
  {
   "cell_type": "code",
   "execution_count": 6,
   "id": "7f61acd8",
   "metadata": {},
   "outputs": [],
   "source": [
    "# Function to perform named entity recognition on a textimport spacy\n",
    "\n",
    "def recognize_entities(input_file, output_file):\n",
    "    with open(input_file, \"r\") as f:  # Opens input file\n",
    "        text = f.read()\n",
    "\n",
    "    # Process the text with spaCy NLP pipeline\n",
    "    doc = nlp(text)\n",
    "\n",
    "    with open(output_file, \"w\") as f:\n",
    "        # Writing recognized entities to the output file\n",
    "        for ent in doc.ents:\n",
    "            f.write(f\"{ent.text}\\t{ent.label_}\\n\")"
   ]
  },
  {
   "cell_type": "code",
   "execution_count": 7,
   "id": "9eefe65f",
   "metadata": {},
   "outputs": [],
   "source": [
    "recognize_entities(r\"C:\\Users\\raksh\\Downloads\\input_file.txt\", r\"C:\\Users\\raksh\\Downloads\\output_file.txt\")\n"
   ]
  }
 ],
 "metadata": {
  "kernelspec": {
   "display_name": "Python 3 (ipykernel)",
   "language": "python",
   "name": "python3"
  },
  "language_info": {
   "codemirror_mode": {
    "name": "ipython",
    "version": 3
   },
   "file_extension": ".py",
   "mimetype": "text/x-python",
   "name": "python",
   "nbconvert_exporter": "python",
   "pygments_lexer": "ipython3",
   "version": "3.10.9"
  }
 },
 "nbformat": 4,
 "nbformat_minor": 5
}
